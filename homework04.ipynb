{
 "cells": [
  {
   "cell_type": "markdown",
   "metadata": {},
   "source": [
    "# Homework 4: Practical analysis with BioPython"
   ]
  },
  {
   "cell_type": "markdown",
   "metadata": {},
   "source": [
    "For the homework, you are going to extend the code from the analysis of our FASTQ file in lectures 8 and 9.\n",
    "Recall that the FASTQ file contains reads from a real sequencing run of influenza virus HA and NA genes.\n",
    "\n",
    "The _actual sequences_ are as follows:\n",
    "\n",
    "    5'-[end of HA]-AGGCGGCCGC-[16 X N barcode]-3'\n",
    "    \n",
    "or \n",
    "\n",
    "    5'-[end of NA]-AGGCGGCCGC-[16 X N barcode]-3'\n",
    "    \n",
    "The end of NA is:\n",
    "\n",
    "    ...CACGATAGATAAATAATAGTGCACCAT\n",
    "    \n",
    "The end of HA is:\n",
    "\n",
    "    ...CCGGATTTGCATATAATGATGCACCAT\n",
    "    \n",
    "The _sequencing reads_ (located in the FASTQ file) are from the reverse end of these actual sequences, so the first thing in the sequencing reads is the reverse complement of the barcode followed by the reverse complement of the constant sequence, etc.\n",
    "The reads can originate from **either** HA or NA, and that will be distinguished by the most 3' end of the read.\n",
    "But in our example exercise in class, we did not distinguish among reads matching to HA and NA, as we didn't even look far enough into the read to tell the identity.\n",
    "\n",
    "For the homework, your goal is to write code that extends the material from lectures 8 and 9 to also distinguish between HA and NA.\n",
    "This homework can be completed almost entirely by re-using code from lecture 9. You will need to set up your analysis to do the following:\n",
    " 1. Get the reverse complement of each read.\n",
    " 2. Determine if it matches the expected pattern for HA and NA, and if so which one.\n",
    " 3. If it matches, extract the barcode and add it to a dictionary to keep track of counts.\n",
    " 4. Determine the number and distribution of barcodes for HA and NA separately.\n",
    "\n",
    "Please include code to address each of the following questions. Please include code comments to explain what your code is attempting to accomplish. Don't forget to include references to the sources you used to obtain your answer, including your classmates (if you are working in groups).  "
   ]
  },
  {
   "cell_type": "markdown",
   "metadata": {},
   "source": [
    "1. How many reads map to HA, and how many reads map to NA?"
   ]
  },
  {
   "cell_type": "code",
   "execution_count": 54,
   "metadata": {},
   "outputs": [
    {
     "name": "stdout",
     "output_type": "stream",
     "text": [
      "The number of reads that mapped to NA were 3973\n",
      "The number of reads that mapped to HA were 5316\n"
     ]
    }
   ],
   "source": [
    "import re\n",
    "import Bio.SeqIO #these two lines of code get the necessary packages\n",
    "\n",
    "def reverse_complement(seq, unk_partner = 'N'): #Defining a function to create the reverse transcript of our input sequence\n",
    "    base_partner = {'A':'T', 'T':'A', 'C':'G', 'G':'C'} #defining the base partners\n",
    "    rseq = ''#defining the \"for\" loop that finds a reverse transcription partner and adds, in reverse, to the growing reverse complement\n",
    "    for a in seq: \n",
    "        if a in base_partner:\n",
    "            pair = base_partner[a]\n",
    "            rseq = pair + rseq\n",
    "        else: #the else component of the for loop that accounts for non-defined partners covered by the above statement.\n",
    "            rseq = unk_partner + rseq\n",
    "    return rseq\n",
    "\n",
    "seqreads = list(Bio.SeqIO.parse('barcodes_R1.fastq', 'fastq')) #Downloading the appropriate package of sequence reads using BioPython\n",
    "seqreads_str = [] #Creating an empty list to throw sequence reads into\n",
    "for seqrecord in seqreads: #For loop populating the liste we created above with individual seq reads\n",
    "    seqreads_str.append(str(seqrecord.seq))\n",
    "\n",
    "def read_HANA(seqread, bclen, downstream='AGGCGGCCGC'): #Creating a function using a regular expression to stratify sequences by a sequence, in this case the 27 nucleotide sequence before the shared common region\n",
    "    reverse = reverse_complement(seqread) #Use our function defined above to get the reverse complement of a sequence\n",
    "    HANA_pattern = re.compile(f\"(?P<HANA>[ATCGN]{{{bclen}}})\"+downstream) #A modified version of what we used in class, re-arranged to look at the sequence before the common region\n",
    "    match = HANA_pattern.search(reverse) #A search function that looks for whatever pattern we define\n",
    "    if match:\n",
    "        HANA = match.group('HANA') #If there is a match, create a new grouping for that match\n",
    "        return HANA\n",
    "    else:\n",
    "        return None\n",
    "HANA_counts = {} #Create a dictionary for our groups defined above to be sorted into\n",
    "n_invalid = 0 #Create a bucket for invalid reads\n",
    "\n",
    "for seq in seqreads_str: # Apply the function defined above to the list of sequences to pull out the 27 nucleotide sequences before the shared common region\n",
    "    HANA = read_HANA(seq, bclen = 27) #set the length probed to 27 nucleotides\n",
    "    if HANA: # If there is a valid range of 27 nucleotides...\n",
    "        if HANA in HANA_counts: #If the nucleotide sequence already exists in the dictionary, increase its count by one\n",
    "            HANA_counts[HANA] += 1\n",
    "        else: #If the nucleotide sequence does not exist in the dictionary, create it and set its count to 1\n",
    "            HANA_counts[HANA] = 1\n",
    "    else: # otherwise, add it to the count of invalid reads\n",
    "        n_invalid += 1\n",
    "\n",
    "print(f\"The number of reads that mapped to NA were {HANA_counts['CACGATAGATAAATAATAGTGCACCAT']}\") #print the number of NA & HA counts \n",
    "print(f\"The number of reads that mapped to HA were {HANA_counts['CCGGATTTGCATATAATGATGCACCAT']}\")"
   ]
  },
  {
   "cell_type": "markdown",
   "metadata": {},
   "source": [
    "2. What is the HA barcode with the most counts (and how many counts)? Also answer the same question for NA.\n",
    "\n",
    "    _Hint: you will need to find the key associated with the maximum value in your dictionary. There are many ways to do this._"
   ]
  },
  {
   "cell_type": "code",
   "execution_count": 48,
   "metadata": {},
   "outputs": [
    {
     "name": "stdout",
     "output_type": "stream",
     "text": [
      "The most common barcode for HA was CCCGACCCGACATTAA with a total number of reads of 155.\n",
      "The most common barcode for NA was ACCAGTTCTCCCCGGG with a total number of reads of 152.\n"
     ]
    },
    {
     "data": {
      "text/plain": [
       "138"
      ]
     },
     "execution_count": 48,
     "metadata": {},
     "output_type": "execute_result"
    }
   ],
   "source": [
    "def read_barcodeNA(seqread, bclen, upstream='CACGATAGATAAATAATAGTGCACCATAGGCGGCCGC'): #Similar to above, this function creates a library, now looking at barcodes using the entire NA+common region as the requisite search feature\n",
    "    reverseNA = reverse_complement(seqread) #take the reverse complement as we defined in Q1\n",
    "    barcode_patternNA = re.compile(upstream + f\"(?P<barcodeNA>[ATCGN]{{{bclen}}})$\") #Use a regular expression to search for the barcode after the NA+coserved motif\n",
    "    match = barcode_patternNA.search(reverseNA) #Search through all of our reverse complement\n",
    "    if match: #If there is a match, create a new group for that match\n",
    "        barcodeNA = match.group('barcodeNA')\n",
    "        return barcodeNA\n",
    "    else:\n",
    "        return None\n",
    "\n",
    "barcode_countsNA = {} #define a dictionary for NA barcode counts to be sorted into\n",
    "n_invalidNA = 0 #set invalid reads to zero\n",
    "\n",
    "for seq in seqreads_str: # iterate through all reads\n",
    "    barcodeNA = read_barcodeNA(seq, bclen = 16) #Define seq as our input & the barcode length to 16 and apply our function\n",
    "    if barcodeNA: # if there is a valid barcode, add it to the dictionary\n",
    "        if barcodeNA in barcode_countsNA:\n",
    "            barcode_countsNA[barcodeNA] += 1\n",
    "        else:\n",
    "            barcode_countsNA[barcodeNA] = 1\n",
    "    else: # otherwise, add it to the count of invalid reads\n",
    "        n_invalidNA += 1\n",
    "barcode_countsNA\n",
    "\n",
    "def read_barcodeHA(seqread, bclen, upstream='CCGGATTTGCATATAATGATGCACCATAGGCGGCCGC'): #Definine the same function as above, but with HA instead of NA\n",
    "    reverseHA = reverse_complement(seqread) #Reverse read of seqread\n",
    "    barcode_patternHA = re.compile(upstream + f\"(?P<barcodeHA>[ATCGN]{{{bclen}}})$\") #Defining a regular expression to search for barcodes using our defined motif\n",
    "    match = barcode_patternHA.search(reverseHA) #use the regular expression to parse barcodes out of our reverse complements\n",
    "    if match:\n",
    "        barcodeHA = match.group('barcodeHA') #create groupings of the barcodes\n",
    "        return barcodeHA\n",
    "    else:\n",
    "        return None\n",
    "\n",
    "barcode_countsHA = {} #define a dictionary to dump barcodes into\n",
    "n_invalidHA = 0 #set invalid reads to zero\n",
    "\n",
    "for seq in seqreads_str: # iterate through all reads\n",
    "    barcodeHA = read_barcodeHA(seq, bclen = 16) #apply newly defined function to seq, set barcode length to 16\n",
    "    if barcodeHA: # if there is a valid barcode, add it to the dictionary\n",
    "        if barcodeHA in barcode_countsHA:\n",
    "            barcode_countsHA[barcodeHA] += 1\n",
    "        else:\n",
    "            barcode_countsHA[barcodeHA] = 1\n",
    "    else: # otherwise, add it to the count of invalid reads\n",
    "        n_invalidHA += 1\n",
    "barcode_countsHA\n",
    "\n",
    "print(f\"The most common barcode for HA was {max(barcode_countsHA, key=barcode_countsHA.get)} with a total number of reads of {max(barcode_countsHA.values())}.\") #print the top barcode ID and the number of reads for both HA and NA\n",
    "print(f\"The most common barcode for NA was {max(barcode_countsNA, key=barcode_countsNA.get)} with a total number of reads of {max(barcode_countsNA.values())}.\")"
   ]
  }
 ],
 "metadata": {
  "kernelspec": {
   "display_name": "Python 3.9.12 ('base')",
   "language": "python",
   "name": "python3"
  },
  "language_info": {
   "codemirror_mode": {
    "name": "ipython",
    "version": 3
   },
   "file_extension": ".py",
   "mimetype": "text/x-python",
   "name": "python",
   "nbconvert_exporter": "python",
   "pygments_lexer": "ipython3",
   "version": "3.9.12"
  },
  "toc": {
   "nav_menu": {},
   "number_sections": false,
   "sideBar": true,
   "skip_h1_title": false,
   "toc_cell": false,
   "toc_position": {
    "height": "623.8px",
    "left": "0px",
    "right": "829.6px",
    "top": "33.2px",
    "width": "322.4px"
   },
   "toc_section_display": "block",
   "toc_window_display": true
  },
  "vscode": {
   "interpreter": {
    "hash": "d4d1e4263499bec80672ea0156c357c1ee493ec2b1c70f0acce89fc37c4a6abe"
   }
  }
 },
 "nbformat": 4,
 "nbformat_minor": 2
}
